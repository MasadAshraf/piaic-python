{
  "cells": [
    {
      "cell_type": "markdown",
      "metadata": {
        "id": "Hs3-rqQLaMOs"
      },
      "source": [
        "**Grand Assignment**"
      ]
    },
    {
      "cell_type": "markdown",
      "metadata": {},
      "source": [
        "**Name** : Muhammad Masad\n",
        "**Roll number** : PIAIC175104"
      ]
    },
    {
      "cell_type": "markdown",
      "metadata": {
        "id": "yoFPv_Hcb3Iv"
      },
      "source": [
        "***Variables and Strings***"
      ]
    },
    {
      "cell_type": "markdown",
      "metadata": {
        "id": "XLAWmJh_b9vr"
      },
      "source": [
        "*1.**Simple Message:** Assign a message to a variable, and then print that\n",
        "message.* "
      ]
    },
    {
      "cell_type": "code",
      "execution_count": 10,
      "metadata": {
        "id": "Xu9FoVk1aKtu"
      },
      "outputs": [
        {
          "name": "stdout",
          "output_type": "stream",
          "text": [
            "hello world\n"
          ]
        }
      ],
      "source": [
        "name = \"hello world\"\n",
        "print(name)"
      ]
    },
    {
      "cell_type": "markdown",
      "metadata": {
        "id": "Ckp41qGzcMhY"
      },
      "source": [
        "2.Find a quote from a famous person you admire. Print the\n",
        "quote and the name of its author. Your output should look something like the\n",
        "following, including the quotation marks:\n",
        "\n",
        "**Albert Einstein once said, “A person who never made a\n",
        "mistake never tried anything new.”**\n"
      ]
    },
    {
      "cell_type": "code",
      "execution_count": 11,
      "metadata": {
        "id": "RAOYKTZDc9l5"
      },
      "outputs": [
        {
          "name": "stdout",
          "output_type": "stream",
          "text": [
            "Steve jobs once said, \"Innovation distinguishes between a leader and a follower.\"\n"
          ]
        }
      ],
      "source": [
        "author = \"Steve jobs\"\n",
        "quote = \"\\\"Innovation distinguishes between a leader and a follower.\\\"\"\n",
        "print(author,'once said,',quote)"
      ]
    },
    {
      "cell_type": "markdown",
      "metadata": {
        "id": "5dsWBIrAduRU"
      },
      "source": [
        "*3. Use a variable to represent your favorite number. Then,\n",
        "using that variable, create a message that reveals your favorite number. Print\n",
        "that message*"
      ]
    },
    {
      "cell_type": "code",
      "execution_count": 12,
      "metadata": {
        "id": "n5bKUt2Xdxet"
      },
      "outputs": [
        {
          "name": "stdout",
          "output_type": "stream",
          "text": [
            "My favorite number is  0\n"
          ]
        }
      ],
      "source": [
        "number = 0\n",
        "print(\"My favorite number is \", number)"
      ]
    },
    {
      "cell_type": "markdown",
      "metadata": {
        "id": "03-7JmJFh1gu"
      },
      "source": [
        "4. **Calculate Area of a Circle::**\n",
        "\n",
        "Write a Python program which accepts the radius of a circle from the user and compute the area.\n",
        "\n",
        "Program Console Sample Output 1:\n",
        "\n",
        "Input Radius: 0.5\n",
        "\n",
        "Area of Circle with radius 0.5 is 0.7853981634"
      ]
    },
    {
      "cell_type": "code",
      "execution_count": 13,
      "metadata": {
        "id": "ZQqUhli7iD8V"
      },
      "outputs": [
        {
          "name": "stdout",
          "output_type": "stream",
          "text": [
            "Input Radius:  0.5\n",
            "Area of cicle with radius 0.5 is 0.7855\n"
          ]
        }
      ],
      "source": [
        "radius = float(input(\"Please enter circle radius: \"))\n",
        "print(\"Input Radius: \",radius)\n",
        "print(\"Area of cicle with radius\", radius,'is', 3.142 * (radius**2))"
      ]
    },
    {
      "cell_type": "markdown",
      "metadata": {
        "id": "_52LUHoriEdK"
      },
      "source": [
        "5. **Check Number either positive, negative or zero::**\n",
        "\n",
        "Write a Python program to check if a number is positive, \n",
        "\n",
        "negative or zero\n",
        "\n",
        "Program Console Sample Output 1:\n",
        "\n",
        "Enter Number: -1\n",
        "\n",
        "Negative Number Entered\n",
        "\n",
        "Program Console Sample Output 2:\n",
        "\n",
        "Integer: 3\n",
        "\n",
        "Positive Number Entered\n",
        "\n",
        "Program Console Sample Output 3:\n",
        "\n",
        "Integer: 0\n",
        "\n",
        "Zero Entered"
      ]
    },
    {
      "cell_type": "code",
      "execution_count": 17,
      "metadata": {
        "id": "_yLJAc80iXk0"
      },
      "outputs": [
        {
          "name": "stdout",
          "output_type": "stream",
          "text": [
            "Enter Number 2656.0\n",
            "Positive Number entered\n"
          ]
        }
      ],
      "source": [
        "number = float(input(\"please enter a number :\"))\n",
        "print(\"Enter Number\",number)\n",
        "if number < 0:\n",
        "    print(\"Negative Number Entered\")\n",
        "elif number > 0:\n",
        "    print(\"Positive Number entered\")\n",
        "else:\n",
        "    print(\"Zero entered\")"
      ]
    },
    {
      "cell_type": "markdown",
      "metadata": {
        "id": "vjXA6uhpiYQX"
      },
      "source": [
        "6. **Vowel Tester**\n",
        "Write a Python program to test whether a passed letter is a vowel or not\n",
        "\n",
        "Program Console Output 1:\n",
        "\n",
        "Enter a character: A\n",
        "\n",
        "Letter A is Vowel\n",
        "\n",
        "Program Console Output 2:\n",
        "\n",
        "Enter a character: e\n",
        "\n",
        "Letter e is Vowel\n",
        "\n",
        "Program Console Output 2:\n",
        "\n",
        "Enter a character: N\n",
        "\n",
        "Letter N is not Vowel."
      ]
    },
    {
      "cell_type": "code",
      "execution_count": 21,
      "metadata": {
        "id": "L62zqtG1jEb9"
      },
      "outputs": [
        {
          "name": "stdout",
          "output_type": "stream",
          "text": [
            "Letter U is Vowel\n"
          ]
        }
      ],
      "source": [
        "vowel = ('a','e','i','o','u','A','E','I','O','U')\n",
        "letter = input(\"Enter A Character: \")\n",
        "if letter in vowel:\n",
        "    print(\"Letter\",letter,\"is Vowel\")\n",
        "else:\n",
        "    print(\"Letter\",letter,\"is not Vowel\") "
      ]
    },
    {
      "cell_type": "markdown",
      "metadata": {
        "id": "qZIGjsnDjFdk"
      },
      "source": [
        "7. **BMI Calculator**\n",
        "\n",
        "Write a Python program to calculate body mass index\n",
        "Program Console Sample 1:\n",
        "\n",
        "Enter Height in Cm: 180\n",
        "\n",
        "Enter Weight in Kg: 75\n",
        "\n",
        "Your BMI is 23.15"
      ]
    },
    {
      "cell_type": "code",
      "execution_count": 23,
      "metadata": {
        "id": "lE-JyyTnjcJU"
      },
      "outputs": [
        {
          "name": "stdout",
          "output_type": "stream",
          "text": [
            "Your BMI is 23.15\n"
          ]
        }
      ],
      "source": [
        "height_cm = float(input(\"Enter Height in Cm: \"))\n",
        "weight_kg = float(input(\"Enter Weight in Kg: \"))\n",
        "print(\"Your BMI is\", round(weight_kg/((height_cm / 100)**2),2))"
      ]
    },
    {
      "cell_type": "markdown",
      "metadata": {
        "id": "11fYzZYid3qq"
      },
      "source": [
        "**List::**"
      ]
    },
    {
      "cell_type": "markdown",
      "metadata": {
        "id": "oUNnrKdyeOks"
      },
      "source": [
        "8. **Store the names of a few of your friends in a list called names**\n",
        "\n",
        " Print each person’s name by accessing each element in the list, one at a time."
      ]
    },
    {
      "cell_type": "code",
      "execution_count": 24,
      "metadata": {
        "id": "RY49qmHQeOGB"
      },
      "outputs": [
        {
          "name": "stdout",
          "output_type": "stream",
          "text": [
            "Noman\n",
            "Fahad\n",
            "Sami\n",
            "Ahmed\n"
          ]
        }
      ],
      "source": [
        "friends = [\"Noman\",\"Fahad\",\"Sami\",\"Ahmed\"]\n",
        "for friend in friends:\n",
        "    print(friend)"
      ]
    },
    {
      "cell_type": "markdown",
      "metadata": {
        "id": "HQe4CmBLd0a0"
      },
      "source": [
        "9. Start with the list you used in Question 4, but instead of just  printing each person’s name, print a message to them. The text of each message should be the same, but each message should be personalized with the\n",
        "person’s name."
      ]
    },
    {
      "cell_type": "code",
      "execution_count": 26,
      "metadata": {
        "id": "QfaA6SZieroG"
      },
      "outputs": [
        {
          "name": "stdout",
          "output_type": "stream",
          "text": [
            "Noman is my bestie\n",
            "Fahad is my bestie\n",
            "Sami is my bestie\n",
            "Ahmed is my bestie\n"
          ]
        }
      ],
      "source": [
        "friends = [\"Noman\",\"Fahad\",\"Sami\",\"Ahmed\"]\n",
        "for friend in friends:\n",
        "    print(friend,'is my bestie')"
      ]
    },
    {
      "cell_type": "markdown",
      "metadata": {
        "id": "3t-zoTSTesyI"
      },
      "source": [
        " 10.**Make a python program that conatains your nine favourite dishes in a list called foods.**\n",
        "Print the message, The first three items in the list are:\n",
        "\n",
        "Then use a slice to print the first three items from that program’s list.\n",
        "\n",
        "Print the message, Three items from the middle of the list are:\n",
        "\n",
        "Use a slice to print three items from the middle of the list.\n",
        "\n",
        "Print the message, The last three items in the list are:\n",
        "\n",
        "Use a slice to print the last three items in the list."
      ]
    },
    {
      "cell_type": "code",
      "execution_count": 28,
      "metadata": {
        "id": "ZpnPQbgAmQhu"
      },
      "outputs": [
        {
          "name": "stdout",
          "output_type": "stream",
          "text": [
            "First 3 items are: Dish_1, Dish_2, Dish_3\n",
            "Middle 3 items are: Dish_4, Dish_5, Dish_6\n",
            "Last 3 items are: Dish_7, Dish_8, Dish_9\n"
          ]
        }
      ],
      "source": [
        "dishes = [\"Dish_1\",\"Dish_2\",\"Dish_3\",\"Dish_4\",\"Dish_5\",\"Dish_6\",\"Dish_7\",\"Dish_8\",\"Dish_9\"]\n",
        "\n",
        "\n",
        "print(\"First 3 items are:\" , ', '.join(dishes[:3]))\n",
        "print(\"Middle 3 items are:\" , ', '.join(dishes[3:6]))\n",
        "print(\"Last 3 items are:\" , ', '.join(dishes[-3:]))"
      ]
    },
    {
      "cell_type": "markdown",
      "metadata": {
        "id": "h37WaaZKmRMe"
      },
      "source": [
        "11. **Start with your program from your last Question8.**\n",
        "Make a copy of the list of foods, and call it friend_foods.\n",
        "Then, do the following:\n",
        "\n",
        "Add a new dish to the original list.\n",
        "\n",
        "Add a different dish to the list friend_foods.\n",
        "\n",
        "Prove that you have two separate lists.\n",
        "\n",
        "Print the message, My favorite pizzas are: and then use a for loop to print the first list.\n",
        "\n",
        "Print the message,\n",
        "\n",
        "My friend’s favorite foods are:, and then use a for loop to print the second list.\n",
        "\n",
        "NOTE: Make sure each new dish is stored in the appropriate list."
      ]
    },
    {
      "cell_type": "code",
      "execution_count": 31,
      "metadata": {
        "id": "6FvxV2CioBQB"
      },
      "outputs": [
        {
          "name": "stdout",
          "output_type": "stream",
          "text": [
            "My Favorite pizzas are:\n",
            "Dish_1\n",
            "Dish_2\n",
            "Dish_3\n",
            "Dish_4\n",
            "Dish_5\n",
            "Dish_6\n",
            "Dish_7\n",
            "Dish_8\n",
            "Dish_9\n",
            "new_dish\n",
            "My friend’s favorite foods are:\n",
            "Dish_1\n",
            "Dish_2\n",
            "Dish_3\n",
            "Dish_4\n",
            "Dish_5\n",
            "Dish_6\n",
            "Dish_7\n",
            "Dish_8\n",
            "Dish_9\n",
            "friend_dish\n"
          ]
        }
      ],
      "source": [
        "dishes = [\"Dish_1\",\"Dish_2\",\"Dish_3\",\"Dish_4\",\"Dish_5\",\"Dish_6\",\"Dish_7\",\"Dish_8\",\"Dish_9\"]\n",
        "friend_foods = dishes.copy()\n",
        "dishes.append(\"new_dish\")\n",
        "friend_foods.append(\"friend_dish\")\n",
        "print(\"My Favorite pizzas are:\")\n",
        "for dish in dishes:\n",
        "    print(dish)\n",
        "\n",
        "print(\"My friend’s favorite foods are:\")\n",
        "for friend_food in friend_foods:\n",
        "    print(friend_food)"
      ]
    }
  ],
  "metadata": {
    "colab": {
      "collapsed_sections": [],
      "name": "grand-assigment.ipynb",
      "provenance": []
    },
    "kernelspec": {
      "display_name": "Python 3.10.0 64-bit",
      "language": "python",
      "name": "python3"
    },
    "language_info": {
      "codemirror_mode": {
        "name": "ipython",
        "version": 3
      },
      "file_extension": ".py",
      "mimetype": "text/x-python",
      "name": "python",
      "nbconvert_exporter": "python",
      "pygments_lexer": "ipython3",
      "version": "3.10.0"
    },
    "vscode": {
      "interpreter": {
        "hash": "8273113d69db988c63ec0b5964f98bdc4fa02b8353cd08945580572cc3964ce1"
      }
    }
  },
  "nbformat": 4,
  "nbformat_minor": 0
}
